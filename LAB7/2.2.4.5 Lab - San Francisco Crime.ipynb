{
 "cells": [
  {
   "cell_type": "markdown",
   "metadata": {},
   "source": [
    "![Title](Images/cisco.png)"
   ]
  },
  {
   "cell_type": "markdown",
   "metadata": {},
   "source": [
    "# Lab - San Francisco Crime \n",
    "### Objectives\n",
    "\n",
    "Demonstrate your knowledge of the Data Analysis Lifecycle using a given set of data and the tools, Python and Jupyter Notebook\n",
    "\n",
    "#### Part 1: Import the Python Packages\n",
    "#### Part 2: Load the Data\n",
    "#### Part 3: Prepare the Data\n",
    "#### Part 4: Analyze the Data\n",
    "#### Part 5: Visualize the Data\n",
    "\n",
    "### Background / Scenario\n",
    "\n",
    "In this lab, you will import some Python packages required to analyze a data set containing San Francisco crime information. You will then use Python and Jupyter Notebook to prepare this data for analysis, analyze it, graph it, and communicate your findings.\n",
    "\n",
    "### Required Resources\n",
    "\n",
    "* 1 PC with Internet access\n",
    "* Raspberry Pi version 2 or higher\n",
    "* Python libraries: pandas, numpy, matplotlib, folium, datetime, and csv\n",
    "* Datafiles: Map-Crime_Incidents-Previous_Three_Months.csv"
   ]
  },
  {
   "cell_type": "markdown",
   "metadata": {},
   "source": [
    "## Part 1: Import the Python Packages\n",
    "\n",
    "In this part, you will import the following Python packages necessary for the rest of this lab.\n",
    "#### numpy \n",
    "NumPy is the fundamental package for scientific computing with Python. It contains among other things: a powerful N-dimensional array object and sophisticated (broadcasting) functions.\n",
    "#### pandas \n",
    "Pandas is an open source, BSD-licensed library providing high-performance, easy-to-use data structures and data analysis tools for the Python programming language.\n",
    "#### matplotlib\n",
    "Matplotlib is a plotting library for the Python programming language and its numerical mathematics extension NumPy.\n",
    "#### folium \n",
    "Folim is a library to create interactive map."
   ]
  },
  {
   "cell_type": "code",
   "execution_count": 65,
   "metadata": {},
   "outputs": [],
   "source": [
    "# Code cell 1\n",
    "import folium\n",
    "import pandas\n",
    "import matplotlib.pyplot as plt\n",
    "import numpy\n"
   ]
  },
  {
   "cell_type": "markdown",
   "metadata": {},
   "source": [
    "## Part 2: Load the Data\n",
    "\n",
    "In this part, you will load the San Francisco Crime Dataset and the Python packages necessary to analyze and visualize it."
   ]
  },
  {
   "cell_type": "markdown",
   "metadata": {},
   "source": [
    "#### Step 1: Load the San Francisco Crime data into a data frame.\n",
    "In this step, you will import the San Francisco crime data from a comma separated values (csv) file into a data frame."
   ]
  },
  {
   "cell_type": "code",
   "execution_count": 66,
   "metadata": {},
   "outputs": [],
   "source": [
    "# code cell 2\n",
    "# This should be a local path\n",
    "path = 'Map-Crime_Incidents-Previous_Three_Months.csv'\n",
    "f = pandas.read_csv(path)\n",
    "\n",
    "\n",
    "# read the original dataset (in comma separated values format) into a DataFrame\n"
   ]
  },
  {
   "cell_type": "markdown",
   "metadata": {},
   "source": [
    "To view the first five lines of the csv file, the Linux command `head` is used."
   ]
  },
  {
   "cell_type": "code",
   "execution_count": 5,
   "metadata": {},
   "outputs": [
    {
     "name": "stdout",
     "output_type": "stream",
     "text": [
      "   IncidntNum       Category                        Descript DayOfWeek  \\\n",
      "0         NaN  LARCENY/THEFT  GRAND THEFT FROM UNLOCKED AUTO    Sunday   \n",
      "1         NaN  LARCENY/THEFT    GRAND THEFT FROM LOCKED AUTO    Sunday   \n",
      "2         NaN  LARCENY/THEFT    GRAND THEFT FROM LOCKED AUTO    Sunday   \n",
      "3         NaN  DRUG/NARCOTIC  POSSESSION OF METH-AMPHETAMINE    Sunday   \n",
      "4         NaN  DRUG/NARCOTIC           POSSESSION OF COCAINE    Sunday   \n",
      "\n",
      "                           Date   Time PdDistrict      Resolution  \\\n",
      "0  08/31/2014 07:00:00 AM +0000  20:30    CENTRAL            NONE   \n",
      "1  08/31/2014 07:00:00 AM +0000  14:30    CENTRAL            NONE   \n",
      "2  08/31/2014 07:00:00 AM +0000  11:30    CENTRAL            NONE   \n",
      "3  08/31/2014 07:00:00 AM +0000  17:49    MISSION  ARREST, BOOKED   \n",
      "4  08/31/2014 07:00:00 AM +0000  18:05   NORTHERN  ARREST, BOOKED   \n",
      "\n",
      "                    Address           X          Y  \\\n",
      "0   HYDE ST / CALIFORNIA ST -122.417393  37.790974   \n",
      "1  COLUMBUS AV / JACKSON ST -122.404418  37.796302   \n",
      "2   SUTTER ST / STOCKTON ST -122.406959  37.789435   \n",
      "3      16TH ST / MISSION ST -122.419672  37.765050   \n",
      "4   LARKIN ST / OFARRELL ST -122.417904  37.785167   \n",
      "\n",
      "                                Location  \n",
      "0  (37.7909741243888, -122.417392830334)  \n",
      "1  (37.7963018736036, -122.404417620748)  \n",
      "2  (37.7894347630337, -122.406958660602)  \n",
      "3  (37.7650501214965, -122.419671780296)  \n",
      "4  (37.7851670875814, -122.417903977564)  \n"
     ]
    }
   ],
   "source": [
    "# code cell 3\n",
    "print(f.head())"
   ]
  },
  {
   "cell_type": "markdown",
   "metadata": {},
   "source": [
    "#### Step 2: View the imported data.\n",
    "\n",
    "a) By typing the name of the data frame variable into a cell, you can visualize the top and bottom rows in a structured way."
   ]
  },
  {
   "cell_type": "code",
   "execution_count": 6,
   "metadata": {},
   "outputs": [
    {
     "data": {
      "text/html": [
       "<div>\n",
       "<style scoped>\n",
       "    .dataframe tbody tr th:only-of-type {\n",
       "        vertical-align: middle;\n",
       "    }\n",
       "\n",
       "    .dataframe tbody tr th {\n",
       "        vertical-align: top;\n",
       "    }\n",
       "\n",
       "    .dataframe thead th {\n",
       "        text-align: right;\n",
       "    }\n",
       "</style>\n",
       "<table border=\"1\" class=\"dataframe\">\n",
       "  <thead>\n",
       "    <tr style=\"text-align: right;\">\n",
       "      <th></th>\n",
       "      <th>IncidntNum</th>\n",
       "      <th>Category</th>\n",
       "      <th>Descript</th>\n",
       "      <th>DayOfWeek</th>\n",
       "      <th>Date</th>\n",
       "      <th>Time</th>\n",
       "      <th>PdDistrict</th>\n",
       "      <th>Resolution</th>\n",
       "      <th>Address</th>\n",
       "      <th>X</th>\n",
       "      <th>Y</th>\n",
       "      <th>Location</th>\n",
       "    </tr>\n",
       "  </thead>\n",
       "  <tbody>\n",
       "    <tr>\n",
       "      <th>0</th>\n",
       "      <td>NaN</td>\n",
       "      <td>LARCENY/THEFT</td>\n",
       "      <td>GRAND THEFT FROM UNLOCKED AUTO</td>\n",
       "      <td>Sunday</td>\n",
       "      <td>08/31/2014 07:00:00 AM +0000</td>\n",
       "      <td>20:30</td>\n",
       "      <td>CENTRAL</td>\n",
       "      <td>NONE</td>\n",
       "      <td>HYDE ST / CALIFORNIA ST</td>\n",
       "      <td>-122.417393</td>\n",
       "      <td>37.790974</td>\n",
       "      <td>(37.7909741243888, -122.417392830334)</td>\n",
       "    </tr>\n",
       "    <tr>\n",
       "      <th>1</th>\n",
       "      <td>NaN</td>\n",
       "      <td>LARCENY/THEFT</td>\n",
       "      <td>GRAND THEFT FROM LOCKED AUTO</td>\n",
       "      <td>Sunday</td>\n",
       "      <td>08/31/2014 07:00:00 AM +0000</td>\n",
       "      <td>14:30</td>\n",
       "      <td>CENTRAL</td>\n",
       "      <td>NONE</td>\n",
       "      <td>COLUMBUS AV / JACKSON ST</td>\n",
       "      <td>-122.404418</td>\n",
       "      <td>37.796302</td>\n",
       "      <td>(37.7963018736036, -122.404417620748)</td>\n",
       "    </tr>\n",
       "    <tr>\n",
       "      <th>2</th>\n",
       "      <td>NaN</td>\n",
       "      <td>LARCENY/THEFT</td>\n",
       "      <td>GRAND THEFT FROM LOCKED AUTO</td>\n",
       "      <td>Sunday</td>\n",
       "      <td>08/31/2014 07:00:00 AM +0000</td>\n",
       "      <td>11:30</td>\n",
       "      <td>CENTRAL</td>\n",
       "      <td>NONE</td>\n",
       "      <td>SUTTER ST / STOCKTON ST</td>\n",
       "      <td>-122.406959</td>\n",
       "      <td>37.789435</td>\n",
       "      <td>(37.7894347630337, -122.406958660602)</td>\n",
       "    </tr>\n",
       "    <tr>\n",
       "      <th>3</th>\n",
       "      <td>NaN</td>\n",
       "      <td>DRUG/NARCOTIC</td>\n",
       "      <td>POSSESSION OF METH-AMPHETAMINE</td>\n",
       "      <td>Sunday</td>\n",
       "      <td>08/31/2014 07:00:00 AM +0000</td>\n",
       "      <td>17:49</td>\n",
       "      <td>MISSION</td>\n",
       "      <td>ARREST, BOOKED</td>\n",
       "      <td>16TH ST / MISSION ST</td>\n",
       "      <td>-122.419672</td>\n",
       "      <td>37.765050</td>\n",
       "      <td>(37.7650501214965, -122.419671780296)</td>\n",
       "    </tr>\n",
       "    <tr>\n",
       "      <th>4</th>\n",
       "      <td>NaN</td>\n",
       "      <td>DRUG/NARCOTIC</td>\n",
       "      <td>POSSESSION OF COCAINE</td>\n",
       "      <td>Sunday</td>\n",
       "      <td>08/31/2014 07:00:00 AM +0000</td>\n",
       "      <td>18:05</td>\n",
       "      <td>NORTHERN</td>\n",
       "      <td>ARREST, BOOKED</td>\n",
       "      <td>LARKIN ST / OFARRELL ST</td>\n",
       "      <td>-122.417904</td>\n",
       "      <td>37.785167</td>\n",
       "      <td>(37.7851670875814, -122.417903977564)</td>\n",
       "    </tr>\n",
       "    <tr>\n",
       "      <th>...</th>\n",
       "      <td>...</td>\n",
       "      <td>...</td>\n",
       "      <td>...</td>\n",
       "      <td>...</td>\n",
       "      <td>...</td>\n",
       "      <td>...</td>\n",
       "      <td>...</td>\n",
       "      <td>...</td>\n",
       "      <td>...</td>\n",
       "      <td>...</td>\n",
       "      <td>...</td>\n",
       "      <td>...</td>\n",
       "    </tr>\n",
       "    <tr>\n",
       "      <th>30755</th>\n",
       "      <td>NaN</td>\n",
       "      <td>LARCENY/THEFT</td>\n",
       "      <td>PETTY THEFT SHOPLIFTING</td>\n",
       "      <td>Sunday</td>\n",
       "      <td>06/01/2014 07:00:00 AM +0000</td>\n",
       "      <td>15:30</td>\n",
       "      <td>SOUTHERN</td>\n",
       "      <td>ARREST, BOOKED</td>\n",
       "      <td>900.0 Block of MARKET ST</td>\n",
       "      <td>-122.408052</td>\n",
       "      <td>37.783957</td>\n",
       "      <td>(37.7839574642528, -122.408051765969)</td>\n",
       "    </tr>\n",
       "    <tr>\n",
       "      <th>30756</th>\n",
       "      <td>NaN</td>\n",
       "      <td>OTHER OFFENSES</td>\n",
       "      <td>DRIVERS LICENSE, SUSPENDED OR REVOKED</td>\n",
       "      <td>Sunday</td>\n",
       "      <td>06/01/2014 07:00:00 AM +0000</td>\n",
       "      <td>16:00</td>\n",
       "      <td>NORTHERN</td>\n",
       "      <td>ARREST, CITED</td>\n",
       "      <td>POLK ST / MCALLISTER ST</td>\n",
       "      <td>-122.418601</td>\n",
       "      <td>37.780261</td>\n",
       "      <td>(37.7802607511488, -122.418600974625)</td>\n",
       "    </tr>\n",
       "    <tr>\n",
       "      <th>30757</th>\n",
       "      <td>NaN</td>\n",
       "      <td>ASSAULT</td>\n",
       "      <td>BATTERY</td>\n",
       "      <td>Sunday</td>\n",
       "      <td>06/01/2014 07:00:00 AM +0000</td>\n",
       "      <td>15:00</td>\n",
       "      <td>TENDERLOIN</td>\n",
       "      <td>ARREST, CITED</td>\n",
       "      <td>0.0 Block of JONES ST</td>\n",
       "      <td>-122.412122</td>\n",
       "      <td>37.781379</td>\n",
       "      <td>(37.7813786419025, -122.412121608136)</td>\n",
       "    </tr>\n",
       "    <tr>\n",
       "      <th>30758</th>\n",
       "      <td>NaN</td>\n",
       "      <td>ASSAULT</td>\n",
       "      <td>ASSAULT WITH CAUSTIC CHEMICALS</td>\n",
       "      <td>Sunday</td>\n",
       "      <td>06/01/2014 07:00:00 AM +0000</td>\n",
       "      <td>15:20</td>\n",
       "      <td>CENTRAL</td>\n",
       "      <td>NONE</td>\n",
       "      <td>200.0 Block of GEARY ST</td>\n",
       "      <td>-122.407434</td>\n",
       "      <td>37.787494</td>\n",
       "      <td>(37.7874944447786, -122.407434204569)</td>\n",
       "    </tr>\n",
       "    <tr>\n",
       "      <th>30759</th>\n",
       "      <td>NaN</td>\n",
       "      <td>OTHER OFFENSES</td>\n",
       "      <td>DRIVERS LICENSE, SUSPENDED OR REVOKED</td>\n",
       "      <td>Sunday</td>\n",
       "      <td>06/01/2014 07:00:00 AM +0000</td>\n",
       "      <td>13:15</td>\n",
       "      <td>INGLESIDE</td>\n",
       "      <td>ARREST, CITED</td>\n",
       "      <td>MISSION ST / BOSWORTH ST</td>\n",
       "      <td>-122.426391</td>\n",
       "      <td>37.733675</td>\n",
       "      <td>(37.7336749150401, -122.426391018521)</td>\n",
       "    </tr>\n",
       "  </tbody>\n",
       "</table>\n",
       "<p>30760 rows × 12 columns</p>\n",
       "</div>"
      ],
      "text/plain": [
       "       IncidntNum        Category                               Descript  \\\n",
       "0             NaN   LARCENY/THEFT         GRAND THEFT FROM UNLOCKED AUTO   \n",
       "1             NaN   LARCENY/THEFT           GRAND THEFT FROM LOCKED AUTO   \n",
       "2             NaN   LARCENY/THEFT           GRAND THEFT FROM LOCKED AUTO   \n",
       "3             NaN   DRUG/NARCOTIC         POSSESSION OF METH-AMPHETAMINE   \n",
       "4             NaN   DRUG/NARCOTIC                  POSSESSION OF COCAINE   \n",
       "...           ...             ...                                    ...   \n",
       "30755         NaN   LARCENY/THEFT                PETTY THEFT SHOPLIFTING   \n",
       "30756         NaN  OTHER OFFENSES  DRIVERS LICENSE, SUSPENDED OR REVOKED   \n",
       "30757         NaN         ASSAULT                                BATTERY   \n",
       "30758         NaN         ASSAULT         ASSAULT WITH CAUSTIC CHEMICALS   \n",
       "30759         NaN  OTHER OFFENSES  DRIVERS LICENSE, SUSPENDED OR REVOKED   \n",
       "\n",
       "      DayOfWeek                          Date   Time  PdDistrict  \\\n",
       "0        Sunday  08/31/2014 07:00:00 AM +0000  20:30     CENTRAL   \n",
       "1        Sunday  08/31/2014 07:00:00 AM +0000  14:30     CENTRAL   \n",
       "2        Sunday  08/31/2014 07:00:00 AM +0000  11:30     CENTRAL   \n",
       "3        Sunday  08/31/2014 07:00:00 AM +0000  17:49     MISSION   \n",
       "4        Sunday  08/31/2014 07:00:00 AM +0000  18:05    NORTHERN   \n",
       "...         ...                           ...    ...         ...   \n",
       "30755    Sunday  06/01/2014 07:00:00 AM +0000  15:30    SOUTHERN   \n",
       "30756    Sunday  06/01/2014 07:00:00 AM +0000  16:00    NORTHERN   \n",
       "30757    Sunday  06/01/2014 07:00:00 AM +0000  15:00  TENDERLOIN   \n",
       "30758    Sunday  06/01/2014 07:00:00 AM +0000  15:20     CENTRAL   \n",
       "30759    Sunday  06/01/2014 07:00:00 AM +0000  13:15   INGLESIDE   \n",
       "\n",
       "           Resolution                   Address           X          Y  \\\n",
       "0                NONE   HYDE ST / CALIFORNIA ST -122.417393  37.790974   \n",
       "1                NONE  COLUMBUS AV / JACKSON ST -122.404418  37.796302   \n",
       "2                NONE   SUTTER ST / STOCKTON ST -122.406959  37.789435   \n",
       "3      ARREST, BOOKED      16TH ST / MISSION ST -122.419672  37.765050   \n",
       "4      ARREST, BOOKED   LARKIN ST / OFARRELL ST -122.417904  37.785167   \n",
       "...               ...                       ...         ...        ...   \n",
       "30755  ARREST, BOOKED  900.0 Block of MARKET ST -122.408052  37.783957   \n",
       "30756   ARREST, CITED   POLK ST / MCALLISTER ST -122.418601  37.780261   \n",
       "30757   ARREST, CITED     0.0 Block of JONES ST -122.412122  37.781379   \n",
       "30758            NONE   200.0 Block of GEARY ST -122.407434  37.787494   \n",
       "30759   ARREST, CITED  MISSION ST / BOSWORTH ST -122.426391  37.733675   \n",
       "\n",
       "                                    Location  \n",
       "0      (37.7909741243888, -122.417392830334)  \n",
       "1      (37.7963018736036, -122.404417620748)  \n",
       "2      (37.7894347630337, -122.406958660602)  \n",
       "3      (37.7650501214965, -122.419671780296)  \n",
       "4      (37.7851670875814, -122.417903977564)  \n",
       "...                                      ...  \n",
       "30755  (37.7839574642528, -122.408051765969)  \n",
       "30756  (37.7802607511488, -122.418600974625)  \n",
       "30757  (37.7813786419025, -122.412121608136)  \n",
       "30758  (37.7874944447786, -122.407434204569)  \n",
       "30759  (37.7336749150401, -122.426391018521)  \n",
       "\n",
       "[30760 rows x 12 columns]"
      ]
     },
     "execution_count": 6,
     "metadata": {},
     "output_type": "execute_result"
    }
   ],
   "source": [
    "# Code cell 4\n",
    "f"
   ]
  },
  {
   "cell_type": "markdown",
   "metadata": {},
   "source": [
    "b) Use the function `columns` to view the name of the variables in the DataFrame."
   ]
  },
  {
   "cell_type": "code",
   "execution_count": 13,
   "metadata": {},
   "outputs": [
    {
     "data": {
      "text/plain": [
       "Index(['IncidntNum', 'Category', 'Descript', 'DayOfWeek', 'Date', 'Time',\n",
       "       'PdDistrict', 'Resolution', 'Address', 'X', 'Y', 'Location'],\n",
       "      dtype='object')"
      ]
     },
     "execution_count": 13,
     "metadata": {},
     "output_type": "execute_result"
    }
   ],
   "source": [
    "# Code cell 5\n",
    "f.columns\n"
   ]
  },
  {
   "cell_type": "markdown",
   "metadata": {},
   "source": [
    "How many variables are contained in the SF data frame (ignore the Index)?"
   ]
  },
  {
   "cell_type": "code",
   "execution_count": 14,
   "metadata": {},
   "outputs": [
    {
     "data": {
      "text/plain": [
       "30760"
      ]
     },
     "execution_count": 14,
     "metadata": {},
     "output_type": "execute_result"
    }
   ],
   "source": [
    "num_cells = f.size\n",
    "print(num_cells)"
   ]
  },
  {
   "cell_type": "markdown",
   "metadata": {},
   "source": [
    "c) Use the function `len` to determine the number of rows in the dataset."
   ]
  },
  {
   "cell_type": "code",
   "execution_count": 10,
   "metadata": {},
   "outputs": [
    {
     "name": "stdout",
     "output_type": "stream",
     "text": [
      "30760\n"
     ]
    }
   ],
   "source": [
    "# Code cell 6\n",
    "num_rows = len(f)\n",
    "print(num_rows)"
   ]
  },
  {
   "cell_type": "markdown",
   "metadata": {},
   "source": [
    "## Part 3: Prepare the Data\n",
    "\n",
    "Now that you have the data loaded into the work environment and determined the analysis you want to perform, it is time to prepare the data for analysis.\n"
   ]
  },
  {
   "cell_type": "markdown",
   "metadata": {},
   "source": [
    "#### Step 1: Extract the month and day from the Date field."
   ]
  },
  {
   "cell_type": "markdown",
   "metadata": {},
   "source": [
    "`lambda` is a Python keyword to define so-called *anonymous functions*. `lambda` allows you to specify a function in one line of code, without using `def` and without defining a specific name for it. The syntax for a `lambda` expression is :\n",
    "\n",
    "`lambda` *parameters* : *expression*.\n",
    "\n",
    "In the following, the `lambda` function is used to create an inline function that selects only the month digits from the Date variable, and `int` to transform a string representation into an integer. Then, the *pandas* function `apply` is used to apply this function to an entire column (in practice, `apply` implicitly defines a `for` loop and passes one by one the rows to the `lambda` function).  The same procedure can be done for the Day. "
   ]
  },
  {
   "cell_type": "code",
   "execution_count": 25,
   "metadata": {},
   "outputs": [],
   "source": [
    "# Code cell 7\n",
    "f['Month'] = f['Date'].apply(lambda row: int(row[0:2]))\n",
    "f['Day'] = f['Date'].apply(lambda row: int(row[3:5]))"
   ]
  },
  {
   "cell_type": "markdown",
   "metadata": {},
   "source": [
    "To verify that these two variables were added to the SF data frame, use the `print` function to print some values from these columns, and `type` to check that these new columns contain indeed numerical values."
   ]
  },
  {
   "cell_type": "code",
   "execution_count": 26,
   "metadata": {},
   "outputs": [
    {
     "name": "stdout",
     "output_type": "stream",
     "text": [
      "0    8\n",
      "1    8\n",
      "Name: Month, dtype: int64\n",
      "0    31\n",
      "1    31\n",
      "Name: Day, dtype: int64\n"
     ]
    }
   ],
   "source": [
    "# Code cell 8\n",
    "print(f['Month'][0:2])\n",
    "print(f['Day'][0:2])"
   ]
  },
  {
   "cell_type": "code",
   "execution_count": 27,
   "metadata": {},
   "outputs": [
    {
     "name": "stdout",
     "output_type": "stream",
     "text": [
      "<class 'numpy.int64'>\n"
     ]
    }
   ],
   "source": [
    "# Code cell 9\n",
    "print(type(f['Month'][0]))"
   ]
  },
  {
   "cell_type": "markdown",
   "metadata": {},
   "source": [
    "#### Step 2: Remove variables from the SF data frame."
   ]
  },
  {
   "cell_type": "markdown",
   "metadata": {},
   "source": [
    "a) The column `IncidntNum` contains many cells with NaN. In this instance, the data is missing. Furthermore, the `IncidntNum` is not providing any value to the analysis. The column can be dropped from the data frame. One way to remove unwanted variables in a  data frame is by using the `del` function."
   ]
  },
  {
   "cell_type": "code",
   "execution_count": 29,
   "metadata": {},
   "outputs": [],
   "source": [
    "# Code cell 10\n",
    "del f['IncidntNum']"
   ]
  },
  {
   "cell_type": "markdown",
   "metadata": {},
   "source": [
    "b) Similarly, the `Location` attribute will not be in this analysis. It can be droped from the data frame. \n",
    "<p>Alternatively, you can use the `drop` function on the data frame, specifying that the *axis* is the 1 (0 for rows), and that the command does not require an assignment to another value to store the result (*inplace = True* )."
   ]
  },
  {
   "cell_type": "code",
   "execution_count": 30,
   "metadata": {},
   "outputs": [],
   "source": [
    "# Code cell 11\n",
    "f.drop('Location', axis=1, inplace=True )"
   ]
  },
  {
   "cell_type": "markdown",
   "metadata": {},
   "source": [
    "c) Check that the columns have been removed."
   ]
  },
  {
   "cell_type": "code",
   "execution_count": 31,
   "metadata": {},
   "outputs": [
    {
     "data": {
      "text/html": [
       "<div>\n",
       "<style scoped>\n",
       "    .dataframe tbody tr th:only-of-type {\n",
       "        vertical-align: middle;\n",
       "    }\n",
       "\n",
       "    .dataframe tbody tr th {\n",
       "        vertical-align: top;\n",
       "    }\n",
       "\n",
       "    .dataframe thead th {\n",
       "        text-align: right;\n",
       "    }\n",
       "</style>\n",
       "<table border=\"1\" class=\"dataframe\">\n",
       "  <thead>\n",
       "    <tr style=\"text-align: right;\">\n",
       "      <th></th>\n",
       "      <th>Category</th>\n",
       "      <th>Descript</th>\n",
       "      <th>DayOfWeek</th>\n",
       "      <th>Date</th>\n",
       "      <th>Time</th>\n",
       "      <th>PdDistrict</th>\n",
       "      <th>Resolution</th>\n",
       "      <th>Address</th>\n",
       "      <th>X</th>\n",
       "      <th>Y</th>\n",
       "      <th>Month</th>\n",
       "      <th>Day</th>\n",
       "    </tr>\n",
       "  </thead>\n",
       "  <tbody>\n",
       "    <tr>\n",
       "      <th>0</th>\n",
       "      <td>LARCENY/THEFT</td>\n",
       "      <td>GRAND THEFT FROM UNLOCKED AUTO</td>\n",
       "      <td>Sunday</td>\n",
       "      <td>08/31/2014 07:00:00 AM +0000</td>\n",
       "      <td>20:30</td>\n",
       "      <td>CENTRAL</td>\n",
       "      <td>NONE</td>\n",
       "      <td>HYDE ST / CALIFORNIA ST</td>\n",
       "      <td>-122.417393</td>\n",
       "      <td>37.790974</td>\n",
       "      <td>8</td>\n",
       "      <td>31</td>\n",
       "    </tr>\n",
       "    <tr>\n",
       "      <th>1</th>\n",
       "      <td>LARCENY/THEFT</td>\n",
       "      <td>GRAND THEFT FROM LOCKED AUTO</td>\n",
       "      <td>Sunday</td>\n",
       "      <td>08/31/2014 07:00:00 AM +0000</td>\n",
       "      <td>14:30</td>\n",
       "      <td>CENTRAL</td>\n",
       "      <td>NONE</td>\n",
       "      <td>COLUMBUS AV / JACKSON ST</td>\n",
       "      <td>-122.404418</td>\n",
       "      <td>37.796302</td>\n",
       "      <td>8</td>\n",
       "      <td>31</td>\n",
       "    </tr>\n",
       "    <tr>\n",
       "      <th>2</th>\n",
       "      <td>LARCENY/THEFT</td>\n",
       "      <td>GRAND THEFT FROM LOCKED AUTO</td>\n",
       "      <td>Sunday</td>\n",
       "      <td>08/31/2014 07:00:00 AM +0000</td>\n",
       "      <td>11:30</td>\n",
       "      <td>CENTRAL</td>\n",
       "      <td>NONE</td>\n",
       "      <td>SUTTER ST / STOCKTON ST</td>\n",
       "      <td>-122.406959</td>\n",
       "      <td>37.789435</td>\n",
       "      <td>8</td>\n",
       "      <td>31</td>\n",
       "    </tr>\n",
       "    <tr>\n",
       "      <th>3</th>\n",
       "      <td>DRUG/NARCOTIC</td>\n",
       "      <td>POSSESSION OF METH-AMPHETAMINE</td>\n",
       "      <td>Sunday</td>\n",
       "      <td>08/31/2014 07:00:00 AM +0000</td>\n",
       "      <td>17:49</td>\n",
       "      <td>MISSION</td>\n",
       "      <td>ARREST, BOOKED</td>\n",
       "      <td>16TH ST / MISSION ST</td>\n",
       "      <td>-122.419672</td>\n",
       "      <td>37.765050</td>\n",
       "      <td>8</td>\n",
       "      <td>31</td>\n",
       "    </tr>\n",
       "    <tr>\n",
       "      <th>4</th>\n",
       "      <td>DRUG/NARCOTIC</td>\n",
       "      <td>POSSESSION OF COCAINE</td>\n",
       "      <td>Sunday</td>\n",
       "      <td>08/31/2014 07:00:00 AM +0000</td>\n",
       "      <td>18:05</td>\n",
       "      <td>NORTHERN</td>\n",
       "      <td>ARREST, BOOKED</td>\n",
       "      <td>LARKIN ST / OFARRELL ST</td>\n",
       "      <td>-122.417904</td>\n",
       "      <td>37.785167</td>\n",
       "      <td>8</td>\n",
       "      <td>31</td>\n",
       "    </tr>\n",
       "    <tr>\n",
       "      <th>...</th>\n",
       "      <td>...</td>\n",
       "      <td>...</td>\n",
       "      <td>...</td>\n",
       "      <td>...</td>\n",
       "      <td>...</td>\n",
       "      <td>...</td>\n",
       "      <td>...</td>\n",
       "      <td>...</td>\n",
       "      <td>...</td>\n",
       "      <td>...</td>\n",
       "      <td>...</td>\n",
       "      <td>...</td>\n",
       "    </tr>\n",
       "    <tr>\n",
       "      <th>30755</th>\n",
       "      <td>LARCENY/THEFT</td>\n",
       "      <td>PETTY THEFT SHOPLIFTING</td>\n",
       "      <td>Sunday</td>\n",
       "      <td>06/01/2014 07:00:00 AM +0000</td>\n",
       "      <td>15:30</td>\n",
       "      <td>SOUTHERN</td>\n",
       "      <td>ARREST, BOOKED</td>\n",
       "      <td>900.0 Block of MARKET ST</td>\n",
       "      <td>-122.408052</td>\n",
       "      <td>37.783957</td>\n",
       "      <td>6</td>\n",
       "      <td>1</td>\n",
       "    </tr>\n",
       "    <tr>\n",
       "      <th>30756</th>\n",
       "      <td>OTHER OFFENSES</td>\n",
       "      <td>DRIVERS LICENSE, SUSPENDED OR REVOKED</td>\n",
       "      <td>Sunday</td>\n",
       "      <td>06/01/2014 07:00:00 AM +0000</td>\n",
       "      <td>16:00</td>\n",
       "      <td>NORTHERN</td>\n",
       "      <td>ARREST, CITED</td>\n",
       "      <td>POLK ST / MCALLISTER ST</td>\n",
       "      <td>-122.418601</td>\n",
       "      <td>37.780261</td>\n",
       "      <td>6</td>\n",
       "      <td>1</td>\n",
       "    </tr>\n",
       "    <tr>\n",
       "      <th>30757</th>\n",
       "      <td>ASSAULT</td>\n",
       "      <td>BATTERY</td>\n",
       "      <td>Sunday</td>\n",
       "      <td>06/01/2014 07:00:00 AM +0000</td>\n",
       "      <td>15:00</td>\n",
       "      <td>TENDERLOIN</td>\n",
       "      <td>ARREST, CITED</td>\n",
       "      <td>0.0 Block of JONES ST</td>\n",
       "      <td>-122.412122</td>\n",
       "      <td>37.781379</td>\n",
       "      <td>6</td>\n",
       "      <td>1</td>\n",
       "    </tr>\n",
       "    <tr>\n",
       "      <th>30758</th>\n",
       "      <td>ASSAULT</td>\n",
       "      <td>ASSAULT WITH CAUSTIC CHEMICALS</td>\n",
       "      <td>Sunday</td>\n",
       "      <td>06/01/2014 07:00:00 AM +0000</td>\n",
       "      <td>15:20</td>\n",
       "      <td>CENTRAL</td>\n",
       "      <td>NONE</td>\n",
       "      <td>200.0 Block of GEARY ST</td>\n",
       "      <td>-122.407434</td>\n",
       "      <td>37.787494</td>\n",
       "      <td>6</td>\n",
       "      <td>1</td>\n",
       "    </tr>\n",
       "    <tr>\n",
       "      <th>30759</th>\n",
       "      <td>OTHER OFFENSES</td>\n",
       "      <td>DRIVERS LICENSE, SUSPENDED OR REVOKED</td>\n",
       "      <td>Sunday</td>\n",
       "      <td>06/01/2014 07:00:00 AM +0000</td>\n",
       "      <td>13:15</td>\n",
       "      <td>INGLESIDE</td>\n",
       "      <td>ARREST, CITED</td>\n",
       "      <td>MISSION ST / BOSWORTH ST</td>\n",
       "      <td>-122.426391</td>\n",
       "      <td>37.733675</td>\n",
       "      <td>6</td>\n",
       "      <td>1</td>\n",
       "    </tr>\n",
       "  </tbody>\n",
       "</table>\n",
       "<p>30760 rows × 12 columns</p>\n",
       "</div>"
      ],
      "text/plain": [
       "             Category                               Descript DayOfWeek  \\\n",
       "0       LARCENY/THEFT         GRAND THEFT FROM UNLOCKED AUTO    Sunday   \n",
       "1       LARCENY/THEFT           GRAND THEFT FROM LOCKED AUTO    Sunday   \n",
       "2       LARCENY/THEFT           GRAND THEFT FROM LOCKED AUTO    Sunday   \n",
       "3       DRUG/NARCOTIC         POSSESSION OF METH-AMPHETAMINE    Sunday   \n",
       "4       DRUG/NARCOTIC                  POSSESSION OF COCAINE    Sunday   \n",
       "...               ...                                    ...       ...   \n",
       "30755   LARCENY/THEFT                PETTY THEFT SHOPLIFTING    Sunday   \n",
       "30756  OTHER OFFENSES  DRIVERS LICENSE, SUSPENDED OR REVOKED    Sunday   \n",
       "30757         ASSAULT                                BATTERY    Sunday   \n",
       "30758         ASSAULT         ASSAULT WITH CAUSTIC CHEMICALS    Sunday   \n",
       "30759  OTHER OFFENSES  DRIVERS LICENSE, SUSPENDED OR REVOKED    Sunday   \n",
       "\n",
       "                               Date   Time  PdDistrict      Resolution  \\\n",
       "0      08/31/2014 07:00:00 AM +0000  20:30     CENTRAL            NONE   \n",
       "1      08/31/2014 07:00:00 AM +0000  14:30     CENTRAL            NONE   \n",
       "2      08/31/2014 07:00:00 AM +0000  11:30     CENTRAL            NONE   \n",
       "3      08/31/2014 07:00:00 AM +0000  17:49     MISSION  ARREST, BOOKED   \n",
       "4      08/31/2014 07:00:00 AM +0000  18:05    NORTHERN  ARREST, BOOKED   \n",
       "...                             ...    ...         ...             ...   \n",
       "30755  06/01/2014 07:00:00 AM +0000  15:30    SOUTHERN  ARREST, BOOKED   \n",
       "30756  06/01/2014 07:00:00 AM +0000  16:00    NORTHERN   ARREST, CITED   \n",
       "30757  06/01/2014 07:00:00 AM +0000  15:00  TENDERLOIN   ARREST, CITED   \n",
       "30758  06/01/2014 07:00:00 AM +0000  15:20     CENTRAL            NONE   \n",
       "30759  06/01/2014 07:00:00 AM +0000  13:15   INGLESIDE   ARREST, CITED   \n",
       "\n",
       "                        Address           X          Y  Month  Day  \n",
       "0       HYDE ST / CALIFORNIA ST -122.417393  37.790974      8   31  \n",
       "1      COLUMBUS AV / JACKSON ST -122.404418  37.796302      8   31  \n",
       "2       SUTTER ST / STOCKTON ST -122.406959  37.789435      8   31  \n",
       "3          16TH ST / MISSION ST -122.419672  37.765050      8   31  \n",
       "4       LARKIN ST / OFARRELL ST -122.417904  37.785167      8   31  \n",
       "...                         ...         ...        ...    ...  ...  \n",
       "30755  900.0 Block of MARKET ST -122.408052  37.783957      6    1  \n",
       "30756   POLK ST / MCALLISTER ST -122.418601  37.780261      6    1  \n",
       "30757     0.0 Block of JONES ST -122.412122  37.781379      6    1  \n",
       "30758   200.0 Block of GEARY ST -122.407434  37.787494      6    1  \n",
       "30759  MISSION ST / BOSWORTH ST -122.426391  37.733675      6    1  \n",
       "\n",
       "[30760 rows x 12 columns]"
      ]
     },
     "execution_count": 31,
     "metadata": {},
     "output_type": "execute_result"
    }
   ],
   "source": [
    "# Code cell 12\n",
    "f"
   ]
  },
  {
   "cell_type": "markdown",
   "metadata": {},
   "source": [
    "## Part 4: Analyze the Data\n",
    "\n",
    "Now that the data frame has been prepared with the data, it is time to analyze the data. "
   ]
  },
  {
   "cell_type": "markdown",
   "metadata": {},
   "source": [
    "#### Step 1: Summarize variables to obtain statistical information.\n",
    "\n",
    "a) Use the function `value_counts` to summarize the number of crimes committed by type, then `print` to display the contents of the *CountCategory* variable."
   ]
  },
  {
   "cell_type": "code",
   "execution_count": 32,
   "metadata": {},
   "outputs": [
    {
     "name": "stdout",
     "output_type": "stream",
     "text": [
      "Category\n",
      "LARCENY/THEFT                  8205\n",
      "OTHER OFFENSES                 4004\n",
      "NON-CRIMINAL                   3653\n",
      "ASSAULT                        2518\n",
      "VEHICLE THEFT                  1885\n",
      "VANDALISM                      1611\n",
      "WARRANTS                       1583\n",
      "DRUG/NARCOTIC                  1292\n",
      "BURGLARY                       1257\n",
      "MISSING PERSON                 1135\n",
      "ROBBERY                         862\n",
      "SUSPICIOUS OCC                  682\n",
      "FRAUD                           574\n",
      "WEAPON LAWS                     322\n",
      "TRESPASS                        259\n",
      "DRUNKENNESS                     142\n",
      "KIDNAPPING                      128\n",
      "SEX OFFENSES, FORCIBLE          123\n",
      "DRIVING UNDER THE INFLUENCE      93\n",
      "FORGERY/COUNTERFEITING           88\n",
      "DISORDERLY CONDUCT               69\n",
      "RUNAWAY                          61\n",
      "ARSON                            60\n",
      "PROSTITUTION                     44\n",
      "LIQUOR LAWS                      38\n",
      "EMBEZZLEMENT                     19\n",
      "SUICIDE                          14\n",
      "FAMILY OFFENSES                   9\n",
      "EXTORTION                         7\n",
      "STOLEN PROPERTY                   7\n",
      "LOITERING                         5\n",
      "SEX OFFENSES, NON FORCIBLE        5\n",
      "BAD CHECKS                        3\n",
      "GAMBLING                          1\n",
      "PORNOGRAPHY/OBSCENE MAT           1\n",
      "BRIBERY                           1\n",
      "Name: count, dtype: int64\n"
     ]
    }
   ],
   "source": [
    "# Code cell 13\n",
    "cnt_cat = f['Category'].value_counts()\n",
    "print(cnt_cat)"
   ]
  },
  {
   "cell_type": "markdown",
   "metadata": {},
   "source": [
    "b) By default, the counts are ordered in descending order. The value of the optional parameter *ascending* can be set to *True* to reverse this behavior."
   ]
  },
  {
   "cell_type": "code",
   "execution_count": 38,
   "metadata": {},
   "outputs": [],
   "source": [
    "# Code cell 14\n",
    "cnt_cat = f['Category'].value_counts(ascending=True)\n"
   ]
  },
  {
   "cell_type": "code",
   "execution_count": 40,
   "metadata": {},
   "outputs": [
    {
     "name": "stdout",
     "output_type": "stream",
     "text": [
      "LARCENY/THEFT\n"
     ]
    }
   ],
   "source": [
    "print(cnt_cat.idxmax())"
   ]
  },
  {
   "cell_type": "markdown",
   "metadata": {},
   "source": [
    "What type of crime was committed the most?"
   ]
  },
  {
   "cell_type": "markdown",
   "metadata": {},
   "source": [
    "c) By nesting the two functions into one command, you can accomplish the same result with one line of\n",
    "code."
   ]
  },
  {
   "cell_type": "code",
   "execution_count": 42,
   "metadata": {},
   "outputs": [
    {
     "name": "stdout",
     "output_type": "stream",
     "text": [
      "Category\n",
      "GAMBLING                          1\n",
      "PORNOGRAPHY/OBSCENE MAT           1\n",
      "BRIBERY                           1\n",
      "BAD CHECKS                        3\n",
      "SEX OFFENSES, NON FORCIBLE        5\n",
      "LOITERING                         5\n",
      "EXTORTION                         7\n",
      "STOLEN PROPERTY                   7\n",
      "FAMILY OFFENSES                   9\n",
      "SUICIDE                          14\n",
      "EMBEZZLEMENT                     19\n",
      "LIQUOR LAWS                      38\n",
      "PROSTITUTION                     44\n",
      "ARSON                            60\n",
      "RUNAWAY                          61\n",
      "DISORDERLY CONDUCT               69\n",
      "FORGERY/COUNTERFEITING           88\n",
      "DRIVING UNDER THE INFLUENCE      93\n",
      "SEX OFFENSES, FORCIBLE          123\n",
      "KIDNAPPING                      128\n",
      "DRUNKENNESS                     142\n",
      "TRESPASS                        259\n",
      "WEAPON LAWS                     322\n",
      "FRAUD                           574\n",
      "SUSPICIOUS OCC                  682\n",
      "ROBBERY                         862\n",
      "MISSING PERSON                 1135\n",
      "BURGLARY                       1257\n",
      "DRUG/NARCOTIC                  1292\n",
      "WARRANTS                       1583\n",
      "VANDALISM                      1611\n",
      "VEHICLE THEFT                  1885\n",
      "ASSAULT                        2518\n",
      "NON-CRIMINAL                   3653\n",
      "OTHER OFFENSES                 4004\n",
      "LARCENY/THEFT                  8205\n",
      "Name: count, dtype: int64\n"
     ]
    }
   ],
   "source": [
    "# Code cell 15\n",
    "print(f['Category'].value_counts(ascending=True))"
   ]
  },
  {
   "cell_type": "markdown",
   "metadata": {},
   "source": [
    "**Challenge Question**: Which PdDistrict had the most incidents of reported crime? Provide the Python command(s)\n",
    "used to support your answer."
   ]
  },
  {
   "cell_type": "markdown",
   "metadata": {
    "collapsed": true,
    "jupyter": {
     "outputs_hidden": true
    }
   },
   "source": []
  },
  {
   "cell_type": "code",
   "execution_count": 50,
   "metadata": {},
   "outputs": [
    {
     "name": "stdout",
     "output_type": "stream",
     "text": [
      "PdDistrict\n",
      "RICHMOND      1622\n",
      "PARK          1800\n",
      "TARAVAL       2038\n",
      "TENDERLOIN    2449\n",
      "INGLESIDE     2613\n",
      "BAYVIEW       2970\n",
      "NORTHERN      3205\n",
      "CENTRAL       3867\n",
      "MISSION       4011\n",
      "SOUTHERN      6185\n",
      "Name: count, dtype: int64\n",
      "Most incidents reported in  SOUTHERN\n"
     ]
    }
   ],
   "source": [
    "# code cell 16\n",
    "# Possible code for the challenge question\n",
    "dis = f['PdDistrict'].value_counts(ascending=True)\n",
    "print(dis)\n",
    "print(\"Most incidents reported in \",dis.idxmax())"
   ]
  },
  {
   "cell_type": "markdown",
   "metadata": {},
   "source": [
    "#### Step 2: Subset the data into smaller data frames."
   ]
  },
  {
   "cell_type": "markdown",
   "metadata": {},
   "source": [
    "a) Logical indexing can be used to select only the rows for which a given condition is satisfied. For example, the following code extracts only the crimes committed in August, and stores the result in a new DataFrame."
   ]
  },
  {
   "cell_type": "code",
   "execution_count": 51,
   "metadata": {},
   "outputs": [
    {
     "data": {
      "text/html": [
       "<div>\n",
       "<style scoped>\n",
       "    .dataframe tbody tr th:only-of-type {\n",
       "        vertical-align: middle;\n",
       "    }\n",
       "\n",
       "    .dataframe tbody tr th {\n",
       "        vertical-align: top;\n",
       "    }\n",
       "\n",
       "    .dataframe thead th {\n",
       "        text-align: right;\n",
       "    }\n",
       "</style>\n",
       "<table border=\"1\" class=\"dataframe\">\n",
       "  <thead>\n",
       "    <tr style=\"text-align: right;\">\n",
       "      <th></th>\n",
       "      <th>Category</th>\n",
       "      <th>Descript</th>\n",
       "      <th>DayOfWeek</th>\n",
       "      <th>Date</th>\n",
       "      <th>Time</th>\n",
       "      <th>PdDistrict</th>\n",
       "      <th>Resolution</th>\n",
       "      <th>Address</th>\n",
       "      <th>X</th>\n",
       "      <th>Y</th>\n",
       "      <th>Month</th>\n",
       "      <th>Day</th>\n",
       "    </tr>\n",
       "  </thead>\n",
       "  <tbody>\n",
       "    <tr>\n",
       "      <th>0</th>\n",
       "      <td>LARCENY/THEFT</td>\n",
       "      <td>GRAND THEFT FROM UNLOCKED AUTO</td>\n",
       "      <td>Sunday</td>\n",
       "      <td>08/31/2014 07:00:00 AM +0000</td>\n",
       "      <td>20:30</td>\n",
       "      <td>CENTRAL</td>\n",
       "      <td>NONE</td>\n",
       "      <td>HYDE ST / CALIFORNIA ST</td>\n",
       "      <td>-122.417393</td>\n",
       "      <td>37.790974</td>\n",
       "      <td>8</td>\n",
       "      <td>31</td>\n",
       "    </tr>\n",
       "    <tr>\n",
       "      <th>1</th>\n",
       "      <td>LARCENY/THEFT</td>\n",
       "      <td>GRAND THEFT FROM LOCKED AUTO</td>\n",
       "      <td>Sunday</td>\n",
       "      <td>08/31/2014 07:00:00 AM +0000</td>\n",
       "      <td>14:30</td>\n",
       "      <td>CENTRAL</td>\n",
       "      <td>NONE</td>\n",
       "      <td>COLUMBUS AV / JACKSON ST</td>\n",
       "      <td>-122.404418</td>\n",
       "      <td>37.796302</td>\n",
       "      <td>8</td>\n",
       "      <td>31</td>\n",
       "    </tr>\n",
       "    <tr>\n",
       "      <th>2</th>\n",
       "      <td>LARCENY/THEFT</td>\n",
       "      <td>GRAND THEFT FROM LOCKED AUTO</td>\n",
       "      <td>Sunday</td>\n",
       "      <td>08/31/2014 07:00:00 AM +0000</td>\n",
       "      <td>11:30</td>\n",
       "      <td>CENTRAL</td>\n",
       "      <td>NONE</td>\n",
       "      <td>SUTTER ST / STOCKTON ST</td>\n",
       "      <td>-122.406959</td>\n",
       "      <td>37.789435</td>\n",
       "      <td>8</td>\n",
       "      <td>31</td>\n",
       "    </tr>\n",
       "    <tr>\n",
       "      <th>3</th>\n",
       "      <td>DRUG/NARCOTIC</td>\n",
       "      <td>POSSESSION OF METH-AMPHETAMINE</td>\n",
       "      <td>Sunday</td>\n",
       "      <td>08/31/2014 07:00:00 AM +0000</td>\n",
       "      <td>17:49</td>\n",
       "      <td>MISSION</td>\n",
       "      <td>ARREST, BOOKED</td>\n",
       "      <td>16TH ST / MISSION ST</td>\n",
       "      <td>-122.419672</td>\n",
       "      <td>37.765050</td>\n",
       "      <td>8</td>\n",
       "      <td>31</td>\n",
       "    </tr>\n",
       "    <tr>\n",
       "      <th>4</th>\n",
       "      <td>DRUG/NARCOTIC</td>\n",
       "      <td>POSSESSION OF COCAINE</td>\n",
       "      <td>Sunday</td>\n",
       "      <td>08/31/2014 07:00:00 AM +0000</td>\n",
       "      <td>18:05</td>\n",
       "      <td>NORTHERN</td>\n",
       "      <td>ARREST, BOOKED</td>\n",
       "      <td>LARKIN ST / OFARRELL ST</td>\n",
       "      <td>-122.417904</td>\n",
       "      <td>37.785167</td>\n",
       "      <td>8</td>\n",
       "      <td>31</td>\n",
       "    </tr>\n",
       "    <tr>\n",
       "      <th>...</th>\n",
       "      <td>...</td>\n",
       "      <td>...</td>\n",
       "      <td>...</td>\n",
       "      <td>...</td>\n",
       "      <td>...</td>\n",
       "      <td>...</td>\n",
       "      <td>...</td>\n",
       "      <td>...</td>\n",
       "      <td>...</td>\n",
       "      <td>...</td>\n",
       "      <td>...</td>\n",
       "      <td>...</td>\n",
       "    </tr>\n",
       "    <tr>\n",
       "      <th>9715</th>\n",
       "      <td>NON-CRIMINAL</td>\n",
       "      <td>AIDED CASE, MENTAL DISTURBED</td>\n",
       "      <td>Friday</td>\n",
       "      <td>08/01/2014 07:00:00 AM +0000</td>\n",
       "      <td>19:55</td>\n",
       "      <td>MISSION</td>\n",
       "      <td>NONE</td>\n",
       "      <td>1100.0 Block of POTRERO AV</td>\n",
       "      <td>-122.406497</td>\n",
       "      <td>37.754279</td>\n",
       "      <td>8</td>\n",
       "      <td>1</td>\n",
       "    </tr>\n",
       "    <tr>\n",
       "      <th>9716</th>\n",
       "      <td>OTHER OFFENSES</td>\n",
       "      <td>MISCELLANEOUS INVESTIGATION</td>\n",
       "      <td>Friday</td>\n",
       "      <td>08/01/2014 07:00:00 AM +0000</td>\n",
       "      <td>22:47</td>\n",
       "      <td>RICHMOND</td>\n",
       "      <td>NONE</td>\n",
       "      <td>1500.0 Block of BRODERICK ST</td>\n",
       "      <td>-122.441458</td>\n",
       "      <td>37.784427</td>\n",
       "      <td>8</td>\n",
       "      <td>1</td>\n",
       "    </tr>\n",
       "    <tr>\n",
       "      <th>9717</th>\n",
       "      <td>ASSAULT</td>\n",
       "      <td>THREATS AGAINST LIFE</td>\n",
       "      <td>Friday</td>\n",
       "      <td>08/01/2014 07:00:00 AM +0000</td>\n",
       "      <td>23:55</td>\n",
       "      <td>BAYVIEW</td>\n",
       "      <td>NONE</td>\n",
       "      <td>400.0 Block of TUNNEL AV</td>\n",
       "      <td>-122.401364</td>\n",
       "      <td>37.709748</td>\n",
       "      <td>8</td>\n",
       "      <td>1</td>\n",
       "    </tr>\n",
       "    <tr>\n",
       "      <th>9718</th>\n",
       "      <td>DRIVING UNDER THE INFLUENCE</td>\n",
       "      <td>DRIVING WHILE UNDER THE INFLUENCE OF ALCOHOL</td>\n",
       "      <td>Friday</td>\n",
       "      <td>08/01/2014 07:00:00 AM +0000</td>\n",
       "      <td>23:38</td>\n",
       "      <td>NORTHERN</td>\n",
       "      <td>ARREST, BOOKED</td>\n",
       "      <td>OAK ST / LAGUNA ST</td>\n",
       "      <td>-122.425892</td>\n",
       "      <td>37.774599</td>\n",
       "      <td>8</td>\n",
       "      <td>1</td>\n",
       "    </tr>\n",
       "    <tr>\n",
       "      <th>9719</th>\n",
       "      <td>SEX OFFENSES, FORCIBLE</td>\n",
       "      <td>ASSAULT TO RAPE WITH BODILY FORCE</td>\n",
       "      <td>Friday</td>\n",
       "      <td>08/01/2014 07:00:00 AM +0000</td>\n",
       "      <td>00:01</td>\n",
       "      <td>MISSION</td>\n",
       "      <td>NONE</td>\n",
       "      <td>1000.0 Block of POTRERO AV</td>\n",
       "      <td>-122.406657</td>\n",
       "      <td>37.756826</td>\n",
       "      <td>8</td>\n",
       "      <td>1</td>\n",
       "    </tr>\n",
       "  </tbody>\n",
       "</table>\n",
       "<p>9720 rows × 12 columns</p>\n",
       "</div>"
      ],
      "text/plain": [
       "                         Category  \\\n",
       "0                   LARCENY/THEFT   \n",
       "1                   LARCENY/THEFT   \n",
       "2                   LARCENY/THEFT   \n",
       "3                   DRUG/NARCOTIC   \n",
       "4                   DRUG/NARCOTIC   \n",
       "...                           ...   \n",
       "9715                 NON-CRIMINAL   \n",
       "9716               OTHER OFFENSES   \n",
       "9717                      ASSAULT   \n",
       "9718  DRIVING UNDER THE INFLUENCE   \n",
       "9719       SEX OFFENSES, FORCIBLE   \n",
       "\n",
       "                                          Descript DayOfWeek  \\\n",
       "0                   GRAND THEFT FROM UNLOCKED AUTO    Sunday   \n",
       "1                     GRAND THEFT FROM LOCKED AUTO    Sunday   \n",
       "2                     GRAND THEFT FROM LOCKED AUTO    Sunday   \n",
       "3                   POSSESSION OF METH-AMPHETAMINE    Sunday   \n",
       "4                            POSSESSION OF COCAINE    Sunday   \n",
       "...                                            ...       ...   \n",
       "9715                  AIDED CASE, MENTAL DISTURBED    Friday   \n",
       "9716                   MISCELLANEOUS INVESTIGATION    Friday   \n",
       "9717                          THREATS AGAINST LIFE    Friday   \n",
       "9718  DRIVING WHILE UNDER THE INFLUENCE OF ALCOHOL    Friday   \n",
       "9719             ASSAULT TO RAPE WITH BODILY FORCE    Friday   \n",
       "\n",
       "                              Date   Time PdDistrict      Resolution  \\\n",
       "0     08/31/2014 07:00:00 AM +0000  20:30    CENTRAL            NONE   \n",
       "1     08/31/2014 07:00:00 AM +0000  14:30    CENTRAL            NONE   \n",
       "2     08/31/2014 07:00:00 AM +0000  11:30    CENTRAL            NONE   \n",
       "3     08/31/2014 07:00:00 AM +0000  17:49    MISSION  ARREST, BOOKED   \n",
       "4     08/31/2014 07:00:00 AM +0000  18:05   NORTHERN  ARREST, BOOKED   \n",
       "...                            ...    ...        ...             ...   \n",
       "9715  08/01/2014 07:00:00 AM +0000  19:55    MISSION            NONE   \n",
       "9716  08/01/2014 07:00:00 AM +0000  22:47   RICHMOND            NONE   \n",
       "9717  08/01/2014 07:00:00 AM +0000  23:55    BAYVIEW            NONE   \n",
       "9718  08/01/2014 07:00:00 AM +0000  23:38   NORTHERN  ARREST, BOOKED   \n",
       "9719  08/01/2014 07:00:00 AM +0000  00:01    MISSION            NONE   \n",
       "\n",
       "                           Address           X          Y  Month  Day  \n",
       "0          HYDE ST / CALIFORNIA ST -122.417393  37.790974      8   31  \n",
       "1         COLUMBUS AV / JACKSON ST -122.404418  37.796302      8   31  \n",
       "2          SUTTER ST / STOCKTON ST -122.406959  37.789435      8   31  \n",
       "3             16TH ST / MISSION ST -122.419672  37.765050      8   31  \n",
       "4          LARKIN ST / OFARRELL ST -122.417904  37.785167      8   31  \n",
       "...                            ...         ...        ...    ...  ...  \n",
       "9715    1100.0 Block of POTRERO AV -122.406497  37.754279      8    1  \n",
       "9716  1500.0 Block of BRODERICK ST -122.441458  37.784427      8    1  \n",
       "9717      400.0 Block of TUNNEL AV -122.401364  37.709748      8    1  \n",
       "9718            OAK ST / LAGUNA ST -122.425892  37.774599      8    1  \n",
       "9719    1000.0 Block of POTRERO AV -122.406657  37.756826      8    1  \n",
       "\n",
       "[9720 rows x 12 columns]"
      ]
     },
     "execution_count": 51,
     "metadata": {},
     "output_type": "execute_result"
    }
   ],
   "source": [
    "# Code cell 17\n",
    "aug =  f[f['Month'] == 8]\n",
    "aug"
   ]
  },
  {
   "cell_type": "markdown",
   "metadata": {},
   "source": [
    "How many crime incidents were there for the month of August? "
   ]
  },
  {
   "cell_type": "markdown",
   "metadata": {
    "collapsed": true,
    "jupyter": {
     "outputs_hidden": true
    }
   },
   "source": [
    "print(len(aug))"
   ]
  },
  {
   "cell_type": "markdown",
   "metadata": {},
   "source": [
    "How many burglaries were reported in the month of August?"
   ]
  },
  {
   "cell_type": "markdown",
   "metadata": {},
   "source": []
  },
  {
   "cell_type": "code",
   "execution_count": 61,
   "metadata": {},
   "outputs": [
    {
     "name": "stdout",
     "output_type": "stream",
     "text": [
      "Number of crimes in Auguts: 9720\n",
      "1257\n",
      "373\n"
     ]
    }
   ],
   "source": [
    "# code cell 18\n",
    "# Possible code for the question: How many burglaries were reported in the month of August?\n",
    "print(\"Number of crimes in Auguts:\", len(aug))\n",
    "\n",
    "AugustCrimes = f[f['Month'] == 8]\n",
    "AugustCrimesB = f[f['Category'] == 'BURGLARY']\n",
    "print(len(AugustCrimesB))\n",
    "aug2 = f[(f['Month'] == 8) & (f['Category'] == \"BURGLARY\")]\n",
    "print(len(aug2))"
   ]
  },
  {
   "cell_type": "markdown",
   "metadata": {},
   "source": [
    "b) To create a subset of the SF data frame for a specific day, use the function `query` operand to compare Month and Day at the same time."
   ]
  },
  {
   "cell_type": "code",
   "execution_count": 62,
   "metadata": {},
   "outputs": [
    {
     "data": {
      "text/html": [
       "<div>\n",
       "<style scoped>\n",
       "    .dataframe tbody tr th:only-of-type {\n",
       "        vertical-align: middle;\n",
       "    }\n",
       "\n",
       "    .dataframe tbody tr th {\n",
       "        vertical-align: top;\n",
       "    }\n",
       "\n",
       "    .dataframe thead th {\n",
       "        text-align: right;\n",
       "    }\n",
       "</style>\n",
       "<table border=\"1\" class=\"dataframe\">\n",
       "  <thead>\n",
       "    <tr style=\"text-align: right;\">\n",
       "      <th></th>\n",
       "      <th>Category</th>\n",
       "      <th>Descript</th>\n",
       "      <th>DayOfWeek</th>\n",
       "      <th>Date</th>\n",
       "      <th>Time</th>\n",
       "      <th>PdDistrict</th>\n",
       "      <th>Resolution</th>\n",
       "      <th>Address</th>\n",
       "      <th>X</th>\n",
       "      <th>Y</th>\n",
       "      <th>Month</th>\n",
       "      <th>Day</th>\n",
       "    </tr>\n",
       "  </thead>\n",
       "  <tbody>\n",
       "    <tr>\n",
       "      <th>19087</th>\n",
       "      <td>LARCENY/THEFT</td>\n",
       "      <td>GRAND THEFT FROM LOCKED AUTO</td>\n",
       "      <td>Friday</td>\n",
       "      <td>07/04/2014 07:00:00 AM +0000</td>\n",
       "      <td>22:30</td>\n",
       "      <td>SOUTHERN</td>\n",
       "      <td>NONE</td>\n",
       "      <td>8TH ST / MISSION ST</td>\n",
       "      <td>-122.413161</td>\n",
       "      <td>37.777457</td>\n",
       "      <td>7</td>\n",
       "      <td>4</td>\n",
       "    </tr>\n",
       "    <tr>\n",
       "      <th>19088</th>\n",
       "      <td>LARCENY/THEFT</td>\n",
       "      <td>GRAND THEFT FROM LOCKED AUTO</td>\n",
       "      <td>Friday</td>\n",
       "      <td>07/04/2014 07:00:00 AM +0000</td>\n",
       "      <td>18:15</td>\n",
       "      <td>SOUTHERN</td>\n",
       "      <td>NONE</td>\n",
       "      <td>CLEMENTINA ST / 9TH ST</td>\n",
       "      <td>-122.412174</td>\n",
       "      <td>37.774201</td>\n",
       "      <td>7</td>\n",
       "      <td>4</td>\n",
       "    </tr>\n",
       "    <tr>\n",
       "      <th>19089</th>\n",
       "      <td>BURGLARY</td>\n",
       "      <td>BURGLARY,RESIDENCE UNDER CONSTRT, FORCIBLE ENTRY</td>\n",
       "      <td>Friday</td>\n",
       "      <td>07/04/2014 07:00:00 AM +0000</td>\n",
       "      <td>00:50</td>\n",
       "      <td>TARAVAL</td>\n",
       "      <td>NONE</td>\n",
       "      <td>0.0 Block of MENDOSA AV</td>\n",
       "      <td>-122.466414</td>\n",
       "      <td>37.748011</td>\n",
       "      <td>7</td>\n",
       "      <td>4</td>\n",
       "    </tr>\n",
       "    <tr>\n",
       "      <th>19090</th>\n",
       "      <td>NON-CRIMINAL</td>\n",
       "      <td>LOST PROPERTY</td>\n",
       "      <td>Friday</td>\n",
       "      <td>07/04/2014 07:00:00 AM +0000</td>\n",
       "      <td>19:00</td>\n",
       "      <td>PARK</td>\n",
       "      <td>NONE</td>\n",
       "      <td>CASTRO ST / 16TH ST</td>\n",
       "      <td>-122.435318</td>\n",
       "      <td>37.764102</td>\n",
       "      <td>7</td>\n",
       "      <td>4</td>\n",
       "    </tr>\n",
       "    <tr>\n",
       "      <th>19091</th>\n",
       "      <td>ASSAULT</td>\n",
       "      <td>BATTERY</td>\n",
       "      <td>Friday</td>\n",
       "      <td>07/04/2014 07:00:00 AM +0000</td>\n",
       "      <td>21:00</td>\n",
       "      <td>NORTHERN</td>\n",
       "      <td>NONE</td>\n",
       "      <td>1000.0 Block of POLK ST</td>\n",
       "      <td>-122.419783</td>\n",
       "      <td>37.785894</td>\n",
       "      <td>7</td>\n",
       "      <td>4</td>\n",
       "    </tr>\n",
       "    <tr>\n",
       "      <th>...</th>\n",
       "      <td>...</td>\n",
       "      <td>...</td>\n",
       "      <td>...</td>\n",
       "      <td>...</td>\n",
       "      <td>...</td>\n",
       "      <td>...</td>\n",
       "      <td>...</td>\n",
       "      <td>...</td>\n",
       "      <td>...</td>\n",
       "      <td>...</td>\n",
       "      <td>...</td>\n",
       "      <td>...</td>\n",
       "    </tr>\n",
       "    <tr>\n",
       "      <th>19423</th>\n",
       "      <td>LARCENY/THEFT</td>\n",
       "      <td>GRAND THEFT FROM LOCKED AUTO</td>\n",
       "      <td>Friday</td>\n",
       "      <td>07/04/2014 07:00:00 AM +0000</td>\n",
       "      <td>19:25</td>\n",
       "      <td>SOUTHERN</td>\n",
       "      <td>NONE</td>\n",
       "      <td>THE EMBARCADEROSOUTH ST / BRYANT ST</td>\n",
       "      <td>-122.388007</td>\n",
       "      <td>37.787103</td>\n",
       "      <td>7</td>\n",
       "      <td>4</td>\n",
       "    </tr>\n",
       "    <tr>\n",
       "      <th>19424</th>\n",
       "      <td>OTHER OFFENSES</td>\n",
       "      <td>LOST/STOLEN LICENSE PLATE</td>\n",
       "      <td>Friday</td>\n",
       "      <td>07/04/2014 07:00:00 AM +0000</td>\n",
       "      <td>11:00</td>\n",
       "      <td>INGLESIDE</td>\n",
       "      <td>NONE</td>\n",
       "      <td>0.0 Block of FRATESSA CT</td>\n",
       "      <td>-122.399762</td>\n",
       "      <td>37.716129</td>\n",
       "      <td>7</td>\n",
       "      <td>4</td>\n",
       "    </tr>\n",
       "    <tr>\n",
       "      <th>19425</th>\n",
       "      <td>LARCENY/THEFT</td>\n",
       "      <td>GRAND THEFT FROM LOCKED AUTO</td>\n",
       "      <td>Friday</td>\n",
       "      <td>07/04/2014 07:00:00 AM +0000</td>\n",
       "      <td>20:30</td>\n",
       "      <td>SOUTHERN</td>\n",
       "      <td>NONE</td>\n",
       "      <td>THE EMBARCADEROSOUTH ST / HARRISON ST</td>\n",
       "      <td>-122.388486</td>\n",
       "      <td>37.789573</td>\n",
       "      <td>7</td>\n",
       "      <td>4</td>\n",
       "    </tr>\n",
       "    <tr>\n",
       "      <th>19426</th>\n",
       "      <td>LARCENY/THEFT</td>\n",
       "      <td>GRAND THEFT FROM LOCKED AUTO</td>\n",
       "      <td>Friday</td>\n",
       "      <td>07/04/2014 07:00:00 AM +0000</td>\n",
       "      <td>08:00</td>\n",
       "      <td>SOUTHERN</td>\n",
       "      <td>NONE</td>\n",
       "      <td>11TH ST / HARRISON ST</td>\n",
       "      <td>-122.412483</td>\n",
       "      <td>37.770631</td>\n",
       "      <td>7</td>\n",
       "      <td>4</td>\n",
       "    </tr>\n",
       "    <tr>\n",
       "      <th>19427</th>\n",
       "      <td>LARCENY/THEFT</td>\n",
       "      <td>PETTY THEFT OF PROPERTY</td>\n",
       "      <td>Friday</td>\n",
       "      <td>07/04/2014 07:00:00 AM +0000</td>\n",
       "      <td>15:30</td>\n",
       "      <td>RICHMOND</td>\n",
       "      <td>NONE</td>\n",
       "      <td>3900.0 Block of GEARY BL</td>\n",
       "      <td>-122.461295</td>\n",
       "      <td>37.781181</td>\n",
       "      <td>7</td>\n",
       "      <td>4</td>\n",
       "    </tr>\n",
       "  </tbody>\n",
       "</table>\n",
       "<p>341 rows × 12 columns</p>\n",
       "</div>"
      ],
      "text/plain": [
       "             Category                                          Descript  \\\n",
       "19087   LARCENY/THEFT                      GRAND THEFT FROM LOCKED AUTO   \n",
       "19088   LARCENY/THEFT                      GRAND THEFT FROM LOCKED AUTO   \n",
       "19089        BURGLARY  BURGLARY,RESIDENCE UNDER CONSTRT, FORCIBLE ENTRY   \n",
       "19090    NON-CRIMINAL                                     LOST PROPERTY   \n",
       "19091         ASSAULT                                           BATTERY   \n",
       "...               ...                                               ...   \n",
       "19423   LARCENY/THEFT                      GRAND THEFT FROM LOCKED AUTO   \n",
       "19424  OTHER OFFENSES                         LOST/STOLEN LICENSE PLATE   \n",
       "19425   LARCENY/THEFT                      GRAND THEFT FROM LOCKED AUTO   \n",
       "19426   LARCENY/THEFT                      GRAND THEFT FROM LOCKED AUTO   \n",
       "19427   LARCENY/THEFT                           PETTY THEFT OF PROPERTY   \n",
       "\n",
       "      DayOfWeek                          Date   Time PdDistrict Resolution  \\\n",
       "19087    Friday  07/04/2014 07:00:00 AM +0000  22:30   SOUTHERN       NONE   \n",
       "19088    Friday  07/04/2014 07:00:00 AM +0000  18:15   SOUTHERN       NONE   \n",
       "19089    Friday  07/04/2014 07:00:00 AM +0000  00:50    TARAVAL       NONE   \n",
       "19090    Friday  07/04/2014 07:00:00 AM +0000  19:00       PARK       NONE   \n",
       "19091    Friday  07/04/2014 07:00:00 AM +0000  21:00   NORTHERN       NONE   \n",
       "...         ...                           ...    ...        ...        ...   \n",
       "19423    Friday  07/04/2014 07:00:00 AM +0000  19:25   SOUTHERN       NONE   \n",
       "19424    Friday  07/04/2014 07:00:00 AM +0000  11:00  INGLESIDE       NONE   \n",
       "19425    Friday  07/04/2014 07:00:00 AM +0000  20:30   SOUTHERN       NONE   \n",
       "19426    Friday  07/04/2014 07:00:00 AM +0000  08:00   SOUTHERN       NONE   \n",
       "19427    Friday  07/04/2014 07:00:00 AM +0000  15:30   RICHMOND       NONE   \n",
       "\n",
       "                                     Address           X          Y  Month  \\\n",
       "19087                    8TH ST / MISSION ST -122.413161  37.777457      7   \n",
       "19088                 CLEMENTINA ST / 9TH ST -122.412174  37.774201      7   \n",
       "19089                0.0 Block of MENDOSA AV -122.466414  37.748011      7   \n",
       "19090                    CASTRO ST / 16TH ST -122.435318  37.764102      7   \n",
       "19091                1000.0 Block of POLK ST -122.419783  37.785894      7   \n",
       "...                                      ...         ...        ...    ...   \n",
       "19423    THE EMBARCADEROSOUTH ST / BRYANT ST -122.388007  37.787103      7   \n",
       "19424               0.0 Block of FRATESSA CT -122.399762  37.716129      7   \n",
       "19425  THE EMBARCADEROSOUTH ST / HARRISON ST -122.388486  37.789573      7   \n",
       "19426                  11TH ST / HARRISON ST -122.412483  37.770631      7   \n",
       "19427               3900.0 Block of GEARY BL -122.461295  37.781181      7   \n",
       "\n",
       "       Day  \n",
       "19087    4  \n",
       "19088    4  \n",
       "19089    4  \n",
       "19090    4  \n",
       "19091    4  \n",
       "...    ...  \n",
       "19423    4  \n",
       "19424    4  \n",
       "19425    4  \n",
       "19426    4  \n",
       "19427    4  \n",
       "\n",
       "[341 rows x 12 columns]"
      ]
     },
     "execution_count": 62,
     "metadata": {},
     "output_type": "execute_result"
    }
   ],
   "source": [
    "# Code cell 19\n",
    "Crime0704 = f.query('Month == 7 and Day == 4')\n",
    "Crime0704"
   ]
  },
  {
   "cell_type": "code",
   "execution_count": 63,
   "metadata": {},
   "outputs": [
    {
     "data": {
      "text/plain": [
       "Index(['Category', 'Descript', 'DayOfWeek', 'Date', 'Time', 'PdDistrict',\n",
       "       'Resolution', 'Address', 'X', 'Y', 'Month', 'Day'],\n",
       "      dtype='object')"
      ]
     },
     "execution_count": 63,
     "metadata": {},
     "output_type": "execute_result"
    }
   ],
   "source": [
    "# Code cell 20\n",
    "f.columns"
   ]
  },
  {
   "cell_type": "markdown",
   "metadata": {},
   "source": [
    "## Part 5: Present the Data\n",
    "\n",
    "Visualization and presentation of the data provides an instant overview that might not be apparent by simply\n",
    "looking at the raw data. The SF data frame contains longitude and latitude coordinates that can be used to\n",
    "plot the data."
   ]
  },
  {
   "cell_type": "markdown",
   "metadata": {},
   "source": [
    "#### Step 1: Plot a graph of the SF data frame using the X and Y variables."
   ]
  },
  {
   "cell_type": "markdown",
   "metadata": {},
   "source": [
    "a) Use the `plot()` function to plot the SF data frame. Use the optional parameter to plot the graph in red and setting the marker shape to a circle using *ro* ."
   ]
  },
  {
   "cell_type": "code",
   "execution_count": null,
   "metadata": {},
   "outputs": [],
   "source": [
    "# Code cell 21\n",
    "f"
   ]
  },
  {
   "cell_type": "markdown",
   "metadata": {},
   "source": [
    "b) Identify the number of police department district, then build the dictionary *pd_districts* to associate their string to an integer."
   ]
  },
  {
   "cell_type": "code",
   "execution_count": 67,
   "metadata": {},
   "outputs": [
    {
     "data": {
      "image/png": "[encoded data removed]",
      "text/plain": [
       "<Figure size 640x480 with 1 Axes>"
      ]
     },
     "metadata": {},
     "output_type": "display_data"
    }
   ],
   "source": [
    "# Code cell 22\n",
    "plt.plot(f['X'],f['Y'], 'ro')\n",
    "plt.show()"
   ]
  },
  {
   "cell_type": "markdown",
   "metadata": {},
   "source": [
    "c) Use `apply` and `lambda` to add the police deparment integer id to a new column of the DataFrame "
   ]
  },
  {
   "cell_type": "code",
   "execution_count": null,
   "metadata": {},
   "outputs": [],
   "source": [
    "# Code cell 23\n"
   ]
  },
  {
   "cell_type": "markdown",
   "metadata": {},
   "source": [
    "d) Use the newly create *PdDistrictCode* to automatically change the color"
   ]
  },
  {
   "cell_type": "code",
   "execution_count": null,
   "metadata": {},
   "outputs": [],
   "source": [
    "# Code cell 24\n"
   ]
  },
  {
   "cell_type": "markdown",
   "metadata": {},
   "source": [
    "#### Step 2: Add Map packages to enhance the plot."
   ]
  },
  {
   "cell_type": "markdown",
   "metadata": {},
   "source": [
    "In Step 1, you created a simple plot that displays where crime incidents took place in SF County. This plot is\n",
    "useful, but `folium` provides additional functions that will allow you to overlay this plot onto an OpenStreet map. "
   ]
  },
  {
   "cell_type": "markdown",
   "metadata": {},
   "source": [
    "a) `Folium` requires the color of the marker to be specified using an hexadecimal value. For this reason, we use the *colors* package, and select the necessary colors."
   ]
  },
  {
   "cell_type": "code",
   "execution_count": null,
   "metadata": {},
   "outputs": [],
   "source": [
    "# Code cell 25\n"
   ]
  },
  {
   "cell_type": "markdown",
   "metadata": {},
   "source": [
    "b) Create a color dictionary for each police department district."
   ]
  },
  {
   "cell_type": "code",
   "execution_count": null,
   "metadata": {},
   "outputs": [],
   "source": [
    "# Code cell 26\n"
   ]
  },
  {
   "cell_type": "markdown",
   "metadata": {},
   "source": [
    "c) Create the map using the middle coordinates of the SF Data to center the map (using `mean`). To reduce the computation time,  *plotEvery* is used to limit amount of plotted data. Set this value to 1 to plot all the rows (might take a long time to visualize the map)."
   ]
  },
  {
   "cell_type": "code",
   "execution_count": null,
   "metadata": {},
   "outputs": [],
   "source": [
    "# Code cell 27\n",
    "# Create map\n",
    "\n",
    "    "
   ]
  },
  {
   "cell_type": "code",
   "execution_count": null,
   "metadata": {
    "scrolled": true
   },
   "outputs": [],
   "source": [
    "# Code cell 28\n"
   ]
  },
  {
   "cell_type": "markdown",
   "metadata": {
    "collapsed": true,
    "jupyter": {
     "outputs_hidden": true
    }
   },
   "source": [
    "<font size='0.5'>&copy; 2017 Cisco and/or its affiliates. All rights reserved. This document is Cisco Public.<font>"
   ]
  }
 ],
 "metadata": {
  "kernelspec": {
   "display_name": "Python 3 (ipykernel)",
   "language": "python",
   "name": "python3"
  },
  "language_info": {
   "codemirror_mode": {
    "name": "ipython",
    "version": 3
   },
   "file_extension": ".py",
   "mimetype": "text/x-python",
   "name": "python",
   "nbconvert_exporter": "python",
   "pygments_lexer": "ipython3",
   "version": "3.11.2"
  }
 },
 "nbformat": 4,
 "nbformat_minor": 4
}
